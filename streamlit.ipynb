{
 "cells": [
  {
   "cell_type": "code",
   "execution_count": 15,
   "id": "83ba2ef2",
   "metadata": {
    "scrolled": false
   },
   "outputs": [],
   "source": [
    "# !pip install xlrd\n",
    "# !pip install openpyxl\n",
    "# !pip install geopy\n",
    "# !pip install streamlit-folium\n",
    "\n",
    "import requests\n",
    "import pandas as pd\n",
    "from pandas import json_normalize\n",
    "import plotly.express as px\n",
    "import streamlit as st \n",
    "import numpy as np\n",
    "import folium\n",
    "from folium import plugins\n",
    "import streamlit_folium as st_folium\n",
    "from streamlit_folium import folium_static\n",
    "import calendar\n",
    "from datetime import timedelta\n",
    "import plotly.graph_objects as go\n",
    "from statsmodels.formula.api import ols\n",
    "import matplotlib.pyplot as plt\n",
    "import seaborn as sns\n",
    "\n",
    "\n",
    "import geopandas as gpd\n",
    "import folium\n",
    "from folium import plugins\n",
    "import geopy"
   ]
  },
  {
   "cell_type": "code",
   "execution_count": 17,
   "id": "21d78c2d",
   "metadata": {},
   "outputs": [
    {
     "name": "stdout",
     "output_type": "stream",
     "text": [
      "Requirement already satisfied: session.info in c:\\users\\barts\\anaconda3\\lib\\site-packages (1.0.0)\n",
      "Requirement already satisfied: stdlib-list in c:\\users\\barts\\anaconda3\\lib\\site-packages (from session.info) (0.8.0)\n"
     ]
    },
    {
     "ename": "KeyError",
     "evalue": "'fiona'",
     "output_type": "error",
     "traceback": [
      "\u001b[1;31m---------------------------------------------------------------------------\u001b[0m",
      "\u001b[1;31mKeyError\u001b[0m                                  Traceback (most recent call last)",
      "Input \u001b[1;32mIn [17]\u001b[0m, in \u001b[0;36m<cell line: 3>\u001b[1;34m()\u001b[0m\n\u001b[0;32m      1\u001b[0m get_ipython()\u001b[38;5;241m.\u001b[39msystem(\u001b[38;5;124m'\u001b[39m\u001b[38;5;124mpip install session.info\u001b[39m\u001b[38;5;124m'\u001b[39m)\n\u001b[0;32m      2\u001b[0m \u001b[38;5;28;01mimport\u001b[39;00m \u001b[38;5;21;01msession_info\u001b[39;00m\n\u001b[1;32m----> 3\u001b[0m \u001b[43msession_info\u001b[49m\u001b[38;5;241;43m.\u001b[39;49m\u001b[43mshow\u001b[49m\u001b[43m(\u001b[49m\u001b[43m)\u001b[49m\n",
      "File \u001b[1;32m~\\anaconda3\\lib\\site-packages\\session_info\\main.py:209\u001b[0m, in \u001b[0;36mshow\u001b[1;34m(na, os, cpu, jupyter, dependencies, std_lib, private, write_req_file, req_file_name, html, excludes)\u001b[0m\n\u001b[0;32m    207\u001b[0m \u001b[38;5;28;01mfor\u001b[39;00m mod_name \u001b[38;5;129;01min\u001b[39;00m clean_modules:\n\u001b[0;32m    208\u001b[0m     mod_names\u001b[38;5;241m.\u001b[39mappend(mod_name)\n\u001b[1;32m--> 209\u001b[0m     mod \u001b[38;5;241m=\u001b[39m \u001b[43msys\u001b[49m\u001b[38;5;241;43m.\u001b[39;49m\u001b[43mmodules\u001b[49m\u001b[43m[\u001b[49m\u001b[43mmod_name\u001b[49m\u001b[43m]\u001b[49m\n\u001b[0;32m    210\u001b[0m     \u001b[38;5;66;03m# Since modules use different attribute names to store version info,\u001b[39;00m\n\u001b[0;32m    211\u001b[0m     \u001b[38;5;66;03m# try the most common ones.\u001b[39;00m\n\u001b[0;32m    212\u001b[0m     \u001b[38;5;28;01mtry\u001b[39;00m:\n",
      "\u001b[1;31mKeyError\u001b[0m: 'fiona'"
     ]
    }
   ],
   "source": [
    "# !pip install session.info\n",
    "# import session_info\n",
    "# session_info.show()"
   ]
  },
  {
   "cell_type": "code",
   "execution_count": 3,
   "id": "05818cfc",
   "metadata": {},
   "outputs": [
    {
     "name": "stderr",
     "output_type": "stream",
     "text": [
      "2022-10-13 15:22:40.186 \n",
      "  \u001b[33m\u001b[1mWarning:\u001b[0m to view this Streamlit app on a browser, run it with the following\n",
      "  command:\n",
      "\n",
      "    streamlit run C:\\Users\\barts\\anaconda3\\lib\\site-packages\\ipykernel_launcher.py [ARGUMENTS]\n"
     ]
    },
    {
     "data": {
      "text/plain": [
       "DeltaGenerator(_root_container=0, _provided_cursor=None, _parent=None, _block_type=None, _form_data=None)"
      ]
     },
     "execution_count": 3,
     "metadata": {},
     "output_type": "execute_result"
    }
   ],
   "source": [
    "st.title('2022-2023 sem-1 Case 3: Dashboard')\n",
    "st.header('Elektrisch mobiliteit en laadpalen')\n",
    "st.subheader(' Team 7: Olger, Bart, Annika, Estelle') \n",
    "##### Inleidende tekst \n",
    "st.text('In dit dashboard hebben wij gebruik gemaakt van de datasets OpenChargeMap, laadpaalgebruik en aantallen elektrische auto’s.')\n",
    "st.text('Hiermee hebben wij verbanden kunnen leggen over de toename van elektrische autos, tijd dat elektrische auto’s aan de laadpaal zitten.')"
   ]
  },
  {
   "cell_type": "code",
   "execution_count": 4,
   "id": "4ec63b5a",
   "metadata": {},
   "outputs": [
    {
     "data": {
      "text/plain": [
       "DeltaGenerator(_root_container=0, _provided_cursor=None, _parent=None, _block_type=None, _form_data=None)"
      ]
     },
     "execution_count": 4,
     "metadata": {},
     "output_type": "execute_result"
    }
   ],
   "source": [
    "st.subheader('Aantallen elektrische autos')\n",
    "df = pd.read_csv('voertuigen.csv')\n",
    "df = df.drop(columns=['Unnamed: 0'])\n",
    "\n",
    "\n",
    "st.text('De data over het onderwerp aantal elektrische autos is afkomstig van de website opendata.rdw')\n",
    "st.text('Hieruit zijn er twee datasets gedownload voor gebruik. De ene over elektrische autos en ander over brandstof gebruik.')\n",
    "st.text('Deze twee datasets zijn samengevoegd tot de nieuwe opgeschoonde dataset: \"Open bezine\"')\n",
    "st.text('Doormiddel van functie zijn er extra kolomen aan toegevoegd.')\n",
    "st.text('Zie hier dataset hieronder')\n",
    "\n",
    "st.dataframe(df)"
   ]
  },
  {
   "cell_type": "code",
   "execution_count": 5,
   "id": "0914102b",
   "metadata": {},
   "outputs": [
    {
     "data": {
      "text/plain": [
       "DeltaGenerator(_root_container=0, _provided_cursor=None, _parent=None, _block_type=None, _form_data=None)"
      ]
     },
     "execution_count": 5,
     "metadata": {},
     "output_type": "execute_result"
    }
   ],
   "source": [
    "st.text('Vanuit deze \"Open bezine\" dataset zijn er visualisaties gemaakt.')\n",
    "st.text('Figuur hieronder bevat een cumulatieve lijndiagram van het aantal voertuigen per maand per brandstof categorie.')\n",
    "st.text('Zoals te zien blijkt het aantal elektische voertuigen in de loop van de jaren meer toeneemt dan over brandstog categorien')\n",
    "\n",
    "\n",
    "### grafiek 1 maken:\n",
    "fig1 = px.ecdf(df, x=\"maand_tenaamstelling\", \n",
    "              color=\"Brandstof omschrijving\", \n",
    "              ecdfnorm=None)\n",
    "\n",
    "fig1.update_layout(\n",
    "    title=\"Cumalatief aantal voertuigen per maand per brandstof categorie. \", \n",
    "    xaxis_title=\"Per maand door de jaren heen\",\n",
    "    yaxis_title=\"Aantal\")\n",
    "\n",
    "st.plotly_chart(fig1)"
   ]
  },
  {
   "cell_type": "code",
   "execution_count": 6,
   "id": "d8330411",
   "metadata": {},
   "outputs": [
    {
     "data": {
      "text/plain": [
       "DeltaGenerator(_root_container=0, _provided_cursor=None, _parent=None, _block_type=None, _form_data=None)"
      ]
     },
     "execution_count": 6,
     "metadata": {},
     "output_type": "execute_result"
    }
   ],
   "source": [
    "##Dataset met alleen elektrische auto's : df_elek\n",
    "df_elek = df[(df['Brandstof omschrijving']=='Elektriciteit')]\n",
    "\n",
    "st.text('Figuur hieronder bevat gegevens over de aanschaf elekrische autos over de jaren heen weer')\n",
    "st.text('Door onder aan het figuur de slider te gebruiken kan er gezien worden welke auto merk in dat jaar erbij is gekomen')\n",
    "st.text('Weer valt er op te merken dat er veel meer elektrische autos in de laatste jaren toeneemt')\n",
    "## Figuur 2: Aanschaf elektishce autos over de tijd\n",
    "fig2 = px.bar(data_frame=df_elek,   \n",
    "                 x='Merk',  \n",
    "                 animation_frame=\"jaar_tenaamstelling\"\n",
    "            )\n",
    "\n",
    "fig2.update_layout(\n",
    "    {'yaxis': {'range': [0, 10000]},'xaxis': {'range': [-1, 80]}}\n",
    ")\n",
    "fig2['layout'].pop('updatemenus')\n",
    "fig2['layout']['sliders'][0]['pad']=dict(r= 1, t= 150,)\n",
    "\n",
    "fig2.update_layout(\n",
    "    title=\"Aanschaf elektrische auto’s over tijd\",\n",
    "    xaxis_title=\"Jaar\",\n",
    "    yaxis_title=\"Aantal\")\n",
    "\n",
    "st.plotly_chart(fig2)"
   ]
  },
  {
   "cell_type": "code",
   "execution_count": 7,
   "id": "e143081b",
   "metadata": {},
   "outputs": [
    {
     "data": {
      "text/plain": [
       "DeltaGenerator(_root_container=0, _provided_cursor=None, _parent=None, _block_type=None, _form_data=None)"
      ]
     },
     "execution_count": 7,
     "metadata": {},
     "output_type": "execute_result"
    }
   ],
   "source": [
    "st.subheader('Chargemap') "
   ]
  },
  {
   "cell_type": "code",
   "execution_count": 10,
   "id": "341099b5",
   "metadata": {},
   "outputs": [
    {
     "name": "stdout",
     "output_type": "stream",
     "text": [
      "0\n",
      "              Started               Ended  TotalEnergy  ConnectedTime  \\\n",
      "1 2018-01-01 11:26:40 2018-01-01 14:36:13        28641         3.1592   \n",
      "3 2018-01-01 14:26:58 2018-01-02 06:36:55        10080        16.1658   \n",
      "4 2018-01-01 14:50:05 2018-01-01 17:21:50         7180         2.5292   \n",
      "5 2018-01-01 14:56:13 2018-01-02 08:29:18         7640        17.5500   \n",
      "6 2018-01-01 15:02:41 2018-01-02 06:41:51         9319        15.6528   \n",
      "\n",
      "   ChargeTime  MaxPower  Maand LaadsessieAangesloten  \\\n",
      "1      2.3056     13680    1.0       0 days 03:09:33   \n",
      "3      4.3006      3360    1.0       0 days 16:09:57   \n",
      "4      2.0656      3758    1.0       0 days 02:31:45   \n",
      "5      2.3100      3520    1.0       0 days 17:33:05   \n",
      "6      4.4553      3400    1.0       0 days 15:39:10   \n",
      "\n",
      "   LaadsessieAangeslotenUren  ConnectedAangeslotenDif  \n",
      "1                   3.159167                 0.000033  \n",
      "3                  16.165833                -0.000033  \n",
      "4                   2.529167                 0.000033  \n",
      "5                  17.551389                -0.001389  \n",
      "6                  15.652778                 0.000022  \n",
      "Gemiddelde: 3 uur en 2 minuten\n",
      "Mediaan: 2 uur en 59 minuten\n"
     ]
    },
    {
     "name": "stderr",
     "output_type": "stream",
     "text": [
      "C:\\Users\\barts\\AppData\\Local\\Temp\\ipykernel_9688\\457038617.py:113: FutureWarning:\n",
      "\n",
      "Indexing with multiple keys (implicitly converted to a tuple of keys) will be deprecated, use a list instead.\n",
      "\n"
     ]
    },
    {
     "data": {
      "text/plain": [
       "DeltaGenerator(_root_container=0, _provided_cursor=None, _parent=None, _block_type=None, _form_data=None)"
      ]
     },
     "execution_count": 10,
     "metadata": {},
     "output_type": "execute_result"
    }
   ],
   "source": [
    "st.subheader('Laadpaaldata') \n",
    "st.text(\"Om de date op te schonen en overzichtelijk te maken hebben we de volgende bewerkingen uitgevoerd:\")\n",
    "st.text(\"Allereerst hebben we alle NA-waardes verwijderd.\")\n",
    "st.text(\"Vervolgens hebben we alle datums omgezet naar datetime format.\")\n",
    "st.text(\"Toen hebben we gegekeken of de aangesloten uren volgens de Ended-Started time wel overeen kwamen,\")\n",
    "st.text(\"hierbij waren er 5 erg afwijkend, dus hebben we deze verwijderd.\")\n",
    "st.text(\"Hevige 'uitschieters' hebben we verwijderd om de meest voorkomende oplaadtijden te kunnen plotten voor een beter overzicht\")\n",
    "st.text(\"De gemiddelde en mediaan zijn berekend om te implementeren in de volgende figuren.\")\n",
    "st.text(\"\")\n",
    "\n",
    "laadpaaldata = pd.read_csv('laadpaaldata.csv')\n",
    "print(laadpaaldata.isna().sum().sum()) # Geen NaN waardes te vinden in deze dataset\n",
    "\n",
    "# De waarnemingen waarbij het opladen later begint dan eindigt verwijderen, dit is immers onmogelijk en wij hebben er geen goede verklaring voor\n",
    "laadpaaldata = laadpaaldata[laadpaaldata['Ended']>=laadpaaldata['Started']]\n",
    "\n",
    "# De tijden omzetten naar een datetime waarde\n",
    "laadpaaldata['Started'] =  pd.to_datetime(laadpaaldata['Started'], format='%Y-%m-%d  %H:%M:%S', errors='coerce') # Day is out of range for month, dus errors='coerce'\n",
    "laadpaaldata['Ended'] =  pd.to_datetime(laadpaaldata['Ended'], format='%Y-%m-%d  %H:%M:%S', errors='coerce') # Day is out of range for month, dus errors='coerce'\n",
    "laadpaaldata['Maand'] = pd.DatetimeIndex(laadpaaldata['Started']).month\n",
    "\n",
    "# Tijd berekenen dat de auto aangesloten staat aan de laadpaal en het verschil met de daadwerkelijke oplaadtijd\n",
    "laadpaaldata['LaadsessieAangesloten'] = laadpaaldata['Ended'] - laadpaaldata['Started']\n",
    "laadpaaldata['LaadsessieAangeslotenUren'] = laadpaaldata['LaadsessieAangesloten'].dt.components['days']*24 + laadpaaldata['LaadsessieAangesloten'].dt.components['hours'] + laadpaaldata['LaadsessieAangesloten'].dt.components['minutes']/60 + laadpaaldata['LaadsessieAangesloten'].dt.components['seconds']/(60*60)\n",
    "laadpaaldata['ConnectedAangeslotenDif'] = laadpaaldata['ConnectedTime'] - laadpaaldata['LaadsessieAangeslotenUren']\n",
    "\n",
    "# De 5 waardes waarbij het verschil in ChargeTime en AangeslotenTime daadwerkelijk meet dan 0,1 uur verschilt\n",
    "laadpaaldata = laadpaaldata[((laadpaaldata['ConnectedAangeslotenDif'] < 0.1) & (laadpaaldata['ConnectedAangeslotenDif'] > 0)) | ((laadpaaldata['ConnectedAangeslotenDif'] > -0.1) & (laadpaaldata['ConnectedAangeslotenDif'] < 0))]\n",
    "\n",
    "# Hele lange tijden van laadsessie, de aansluiting, eruit halen\n",
    "q_laad = laadpaaldata['LaadsessieAangeslotenUren'].quantile(0.965)\n",
    "laadpaaldata[laadpaaldata['LaadsessieAangeslotenUren']<q_laad]\n",
    "q_low_laad = laadpaaldata['LaadsessieAangeslotenUren'].quantile(0.035)\n",
    "q_hi_laad = laadpaaldata['LaadsessieAangeslotenUren'].quantile(0.965)\n",
    "laadpaaldata = laadpaaldata[(laadpaaldata[\"LaadsessieAangeslotenUren\"] < q_hi_laad) & (laadpaaldata[\"LaadsessieAangeslotenUren\"] > q_low_laad)]\n",
    "\n",
    "# Hele lange tijden van chargetime eruit halen\n",
    "q_charge = laadpaaldata['ChargeTime'].quantile(0.965)\n",
    "laadpaaldata[laadpaaldata['ChargeTime']<q_charge]\n",
    "q_low_charge = laadpaaldata['ChargeTime'].quantile(0.35)\n",
    "q_hi_charge = laadpaaldata['ChargeTime'].quantile(0.965)\n",
    "laadpaaldata = laadpaaldata[(laadpaaldata[\"ChargeTime\"] < q_hi_charge) & (laadpaaldata[\"ChargeTime\"] > q_low_charge)]\n",
    "\n",
    "print(laadpaaldata.head())\n",
    "st.dataframe(laadpaaldata)\n",
    "\n",
    "# Dubbel check of de uitschieters weg zijn\n",
    "# fig = px.box(laadpaaldata, x=\"ChargeTime\")\n",
    "# fig.show()\n",
    "# fig = px.box(laadpaaldata, x=\"LaadsessieAangeslotenUren\")\n",
    "# fig.show()\n",
    "\n",
    "gemiddelde = round(laadpaaldata['ChargeTime'].mean(), 4)\n",
    "mediaan = round(laadpaaldata['ChargeTime'].median(), 4)\n",
    "print('Gemiddelde: ' +str(int(gemiddelde))+ \" uur en \" +str(round((gemiddelde-int(gemiddelde))*60)) +\" minuten\")\n",
    "print('Mediaan: ' +str(int(mediaan))+ \" uur en \" +str(round((mediaan-int(mediaan))*60)) +\" minuten\")\n",
    "\n",
    "st.text('In onderstaand figuur is de verdeling te zien van de tijd dat een auto oplaadt.')\n",
    "st.text('Het gemiddelde en de mediaan verschillen weinig. Wel is er duidelijk te zien dat zich twee toppen vormen,')\n",
    "st.text(\"een bimodale normale verdeling waarschijnlijk. De meeste auto's laden iets meer dan 2 uur op.\")\n",
    "\n",
    "fig = px.histogram(laadpaaldata, x=\"ChargeTime\", nbins=40, text_auto=True,\n",
    "            title='Aantal laadpalen per oplaadtijd',\n",
    "            labels={\"ChargeTime\":\"Oplaadtijd (in uren)\"})\n",
    "\n",
    "fig.add_annotation(x=6, y=750,\n",
    "            text='Gemiddelde: ' +str(int(gemiddelde))+ \" uur en \" +str(round((gemiddelde-int(gemiddelde))*60)) +\" minuten\",\n",
    "            showarrow=False,\n",
    "            arrowhead=1,\n",
    "            align=\"center\",\n",
    "            font=dict(color=\"#ffffff\"),\n",
    "            ax=20,\n",
    "            ay=-30,\n",
    "            bordercolor=\"#ffffff\",\n",
    "            borderwidth=2,\n",
    "            borderpad=4,\n",
    "            bgcolor=\"#27285C\",\n",
    "            opacity=0.8)\n",
    "\n",
    "fig.add_annotation(x=5.97, y=680,\n",
    "            text='Mediaan: ' +str(int(mediaan))+ \" uur en \" +str(round((mediaan-int(mediaan))*60)) +\" minuten\",\n",
    "            showarrow=False,\n",
    "            arrowhead=1,\n",
    "            align=\"center\",\n",
    "            font=dict(color=\"#ffffff\"),\n",
    "            ax=20,\n",
    "            ay=-30,\n",
    "            bordercolor=\"#ffffff\",\n",
    "            borderwidth=2,\n",
    "            borderpad=4,\n",
    "            bgcolor=\"#27285C\",\n",
    "            opacity=0.8)\n",
    "\n",
    "fig.add_annotation(x=5.93, y=610,\n",
    "            text='Kansdichtheid: Bimodale verdeling / tweetoppige normale verdeling',\n",
    "            showarrow=False,\n",
    "            arrowhead=1,\n",
    "            align=\"center\",\n",
    "            font=dict(color=\"#ffffff\"),\n",
    "            ax=20,\n",
    "            ay=-30,\n",
    "            bordercolor=\"#ffffff\",\n",
    "            borderwidth=2,\n",
    "            borderpad=4,\n",
    "            bgcolor=\"#27285C\",\n",
    "            opacity=0.8)\n",
    "\n",
    "fig.update_layout(yaxis_title=\"Aantal laadpalen\")\n",
    "st.plotly_chart(fig)\n",
    "\n",
    "# Groeperen op maand en de totale laad en connected time berekenen --> verwerken in een barplot\n",
    "import calendar\n",
    "laadtijd_per_maand = laadpaaldata.groupby('Maand')['ChargeTime', \"ConnectedTime\"].sum().reset_index()\n",
    "laadtijd_per_maand['Maand'] = laadtijd_per_maand['Maand'].astype(int)\n",
    "laadtijd_per_maand['Maand'] = laadtijd_per_maand['Maand'].apply(lambda x: calendar.month_abbr[x])\n",
    "\n",
    "st.text('In onderstaand figuur is een duidelijk verschil te zien in de tijd van aansluiten en daadwerkelijk opladen.')\n",
    "st.text(\"De auto's staan in totaal vaak twee keer zo lang aangesloten als dat ze aan het opladen zijn.\")\n",
    "\n",
    "fig = go.Figure()\n",
    "fig.add_trace(go.Bar(x=laadtijd_per_maand[\"Maand\"], y=laadtijd_per_maand[\"ChargeTime\"], name=\"Oplaadtijd\"))\n",
    "fig.add_trace(go.Bar(x=laadtijd_per_maand[\"Maand\"], y=laadtijd_per_maand[\"ConnectedTime\"], name=\"Aansluittijd\"))\n",
    "\n",
    "fig.update_layout(yaxis_title=\"Totale tijd in uren\",\n",
    "                    xaxis_title=\"Maand\",\n",
    "                    title=\"Totale laadtijd vs aansluittijd per maand\",\n",
    "    updatemenus=[\n",
    "        dict(\n",
    "            active=0,\n",
    "            buttons=list([\n",
    "                dict(label=\"Beiden\",\n",
    "                     method=\"update\",\n",
    "                     args=[{\"visible\": [True, True]}]),\n",
    "                dict(label=\"Aansluittijd\",\n",
    "                     method=\"update\",\n",
    "                     args=[{\"visible\": [False, True]}]),\n",
    "                dict(label=\"Oplaadtijd\",\n",
    "                     method=\"update\",\n",
    "                     args=[{\"visible\": [True, False]}])]\n",
    "))\n",
    "                  ])\n",
    "\n",
    "st.plotly_chart(fig)\n",
    "\n",
    "fig.show()"
   ]
  },
  {
   "cell_type": "code",
   "execution_count": 13,
   "id": "f9fc3160",
   "metadata": {},
   "outputs": [
    {
     "name": "stderr",
     "output_type": "stream",
     "text": [
      "C:\\Users\\barts\\AppData\\Local\\Temp\\ipykernel_9688\\3167076343.py:18: SettingWithCopyWarning:\n",
      "\n",
      "\n",
      "A value is trying to be set on a copy of a slice from a DataFrame.\n",
      "Try using .loc[row_indexer,col_indexer] = value instead\n",
      "\n",
      "See the caveats in the documentation: https://pandas.pydata.org/pandas-docs/stable/user_guide/indexing.html#returning-a-view-versus-a-copy\n",
      "\n"
     ]
    },
    {
     "data": {
      "text/plain": [
       "DeltaGenerator(_root_container=0, _provided_cursor=None, _parent=None, _block_type=None, _form_data=None)"
      ]
     },
     "execution_count": 13,
     "metadata": {},
     "output_type": "execute_result"
    },
    {
     "data": {
      "image/png": "[encoded data removed]",
      "text/plain": [
       "<Figure size 432x288 with 1 Axes>"
      ]
     },
     "metadata": {
      "needs_background": "light"
     },
     "output_type": "display_data"
    }
   ],
   "source": [
    "st.subheader(\"Voorspelling aantal elektrische auto's\") \n",
    "st.text(\"Doormiddel van de variabelen in de datasets is er een voorspelling gedaan over het aantal elektrische auto's.\")\n",
    "st.text('Dit hebben wij kunnen doen door bepaalde gegevens te voorspellen en uit te zetten over de jaren later')\n",
    "st.text(\"Uit de figuur hieronder blijkt dat het aantal elektrische auto's tot met 2030 zal toenemen'\")\n",
    "st.text('De blauwe bolletjes geven de echte waardes aan in de jaren die al gegeven zijn')\n",
    "st.text('De blauwe lijn geeft het gemiddelde aan door de blauwe bolletjes')\n",
    "st.text('Om te voorspellen wat er in de jaren na de blauwe bolletjes gebeurt,')\n",
    "st.text('zijn er \"predictions\" gemaakt die zijn gebaseerd op de gegeven punten')\n",
    "st.text('De rode bolletjes vormen de voorspelling in de toekomst')\n",
    "st.text(\"Hieruit zal blijken dat de aanschaf van elektrische auto's toeneemt in de toekomst\")\n",
    "\n",
    "# Create sqrt_dist_to_mrt_m\n",
    "\n",
    "aantal_per_jaar = df_elek.groupby('jaar_tenaamstelling')['Kenteken'].count().reset_index()\n",
    "\n",
    "groter_2017jaar = aantal_per_jaar[(aantal_per_jaar['jaar_tenaamstelling'] >= 2017)]\n",
    "\n",
    "groter_2017jaar['jaar_tenaamstelling'] = groter_2017jaar['jaar_tenaamstelling'].astype(np.int64)\n",
    "groter_2017jaar.jaar_tenaamstelling.dtype\n",
    "\n",
    "regressie = ols(\"Kenteken~ jaar_tenaamstelling\", data=groter_2017jaar).fit()\n",
    "\n",
    "explanatory_data = pd.DataFrame({\"jaar_tenaamstelling\":np.arange(2021,2030)})\n",
    "prediction_data = explanatory_data.assign(Kenteken=regressie.predict(explanatory_data))\n",
    "\n",
    "tips = sns.load_dataset(\"tips\")\n",
    "\n",
    "fig = plt.figure()\n",
    "\n",
    "ax1 = sns.regplot(x=\"jaar_tenaamstelling\",\n",
    "            y=\"Kenteken\",            \n",
    "            ci=None,            \n",
    "            data=groter_2017jaar,)\n",
    "ax2 = sns.scatterplot(x=\"jaar_tenaamstelling\",\n",
    "                y=\"Kenteken\",                \n",
    "                data=prediction_data,                 \n",
    "                color=\"red\",                \n",
    "                marker=\"s\")\n",
    "ax1.set(xlabel='Jaar', ylabel=\"Aantal elektrische auto's\")\n",
    "ax1.set(title=\"Aantal elektrische auto's per jaar en voorspelling aankomende jaren\")\n",
    "\n",
    "st.pyplot(fig)"
   ]
  },
  {
   "cell_type": "code",
   "execution_count": null,
   "id": "158c9102",
   "metadata": {},
   "outputs": [],
   "source": []
  }
 ],
 "metadata": {
  "kernelspec": {
   "display_name": "Python 3 (ipykernel)",
   "language": "python",
   "name": "python3"
  },
  "language_info": {
   "codemirror_mode": {
    "name": "ipython",
    "version": 3
   },
   "file_extension": ".py",
   "mimetype": "text/x-python",
   "name": "python",
   "nbconvert_exporter": "python",
   "pygments_lexer": "ipython3",
   "version": "3.9.12"
  }
 },
 "nbformat": 4,
 "nbformat_minor": 5
}
